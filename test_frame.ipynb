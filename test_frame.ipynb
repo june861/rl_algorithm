{
 "cells": [
  {
   "cell_type": "code",
   "execution_count": 3,
   "metadata": {},
   "outputs": [
    {
     "name": "stdout",
     "output_type": "stream",
     "text": [
      "couldn't import doomish\n",
      "Couldn't import doom\n"
     ]
    }
   ],
   "source": [
    "# -*- encoding: utf-8 -*-\n",
    "'''\n",
    "@File    :   game.py\n",
    "@Time    :   2024/09/22 21:33:33\n",
    "@Author  :   junewluo \n",
    "'''\n",
    "\n",
    "import os\n",
    "import numpy as np\n",
    "from gym import Env, spaces\n",
    "from ple import PLE\n",
    "from ple.games import FlappyBird\n",
    "\n",
    "# os.putenv('SDL_VIDEODRIVER', 'fbcon')\n",
    "# os.environ[\"SDL_VIDEODRIVER\"] = \"dummy\"\n",
    "\n",
    "class FlappyBirdWrapper(Env):\n",
    "    metadata = {\n",
    "        'render.mode':['human','rgb_array'],\n",
    "    }\n",
    "    # 如果想把画面渲染出来，就传参display_screen=True\n",
    "    def __init__(self, **kwargs):\n",
    "        self.game = FlappyBird()\n",
    "        self.p = PLE(self.game, display_screen=True, **kwargs)\n",
    "        self.action_set = self.p.getActionSet()\n",
    "\n",
    "        # 3个输入状态：见函数self._get_obs\n",
    "        self.observation_space = spaces.Box(low=np.finfo(np.float32).min, high=np.finfo(np.float32).max, shape=(3,), dtype=np.float32)\n",
    "        # 两个输出状态：跳或者不跳\n",
    "        self.action_space = spaces.Discrete(len(self.action_set))\n",
    "\n",
    "    def _get_obs(self):\n",
    "        # 获取游戏的状态\n",
    "        state = self.game.getGameState()\n",
    "        # 小鸟与它前面一对水管中下面那根水管的水平距离\n",
    "        dist_to_pipe_horz = state[\"next_pipe_dist_to_player\"]\n",
    "        # 小鸟与它前面一对水管中下面那根水管的顶端的垂直距离\n",
    "        dist_to_pipe_bottom = state[\"player_y\"] - state[\"next_pipe_top_y\"]\n",
    "        # 获取小鸟的水平速度\n",
    "        velocity = state['player_vel']\n",
    "        # 将这些信息封装成一个数据返回\n",
    "        return np.array([dist_to_pipe_horz, dist_to_pipe_bottom, velocity])\n",
    "\n",
    "    def reset(self):\n",
    "        self.p.reset_game()\n",
    "        return self._get_obs(), dict()\n",
    "\n",
    "    def step(self, action):\n",
    "        reward = self.p.act(self.action_set[action])\n",
    "        obs = self._get_obs()\n",
    "        done = self.p.game_over()\n",
    "        truncation = False\n",
    "        return obs, reward, done, truncation, dict()\n",
    "\n",
    "    def seed(self, *args, **kwargs):\n",
    "        pass\n",
    "\n",
    "    def render(self, *args, **kwargs):\n",
    "        # self.p.initScreen()\n",
    "        rgb = self.p.getScreenRGB()\n",
    "        return rgb"
   ]
  },
  {
   "cell_type": "code",
   "execution_count": 4,
   "metadata": {},
   "outputs": [
    {
     "name": "stderr",
     "output_type": "stream",
     "text": [
      "libpng warning: iCCP: known incorrect sRGB profile\n",
      "libpng warning: iCCP: known incorrect sRGB profile\n",
      "libpng warning: iCCP: known incorrect sRGB profile\n",
      "libpng warning: iCCP: known incorrect sRGB profile\n",
      "libpng warning: iCCP: known incorrect sRGB profile\n",
      "libpng warning: iCCP: known incorrect sRGB profile\n",
      "libpng warning: iCCP: known incorrect sRGB profile\n",
      "libpng warning: iCCP: known incorrect sRGB profile\n",
      "libpng warning: iCCP: known incorrect sRGB profile\n",
      "libpng warning: iCCP: known incorrect sRGB profile\n",
      "libpng warning: iCCP: known incorrect sRGB profile\n"
     ]
    },
    {
     "data": {
      "text/plain": [
       "array([[[0, 0, 0],\n",
       "        [0, 0, 0],\n",
       "        [0, 0, 0],\n",
       "        ...,\n",
       "        [0, 0, 0],\n",
       "        [0, 0, 0],\n",
       "        [0, 0, 0]],\n",
       "\n",
       "       [[0, 0, 0],\n",
       "        [0, 0, 0],\n",
       "        [0, 0, 0],\n",
       "        ...,\n",
       "        [0, 0, 0],\n",
       "        [0, 0, 0],\n",
       "        [0, 0, 0]],\n",
       "\n",
       "       [[0, 0, 0],\n",
       "        [0, 0, 0],\n",
       "        [0, 0, 0],\n",
       "        ...,\n",
       "        [0, 0, 0],\n",
       "        [0, 0, 0],\n",
       "        [0, 0, 0]],\n",
       "\n",
       "       ...,\n",
       "\n",
       "       [[0, 0, 0],\n",
       "        [0, 0, 0],\n",
       "        [0, 0, 0],\n",
       "        ...,\n",
       "        [0, 0, 0],\n",
       "        [0, 0, 0],\n",
       "        [0, 0, 0]],\n",
       "\n",
       "       [[0, 0, 0],\n",
       "        [0, 0, 0],\n",
       "        [0, 0, 0],\n",
       "        ...,\n",
       "        [0, 0, 0],\n",
       "        [0, 0, 0],\n",
       "        [0, 0, 0]],\n",
       "\n",
       "       [[0, 0, 0],\n",
       "        [0, 0, 0],\n",
       "        [0, 0, 0],\n",
       "        ...,\n",
       "        [0, 0, 0],\n",
       "        [0, 0, 0],\n",
       "        [0, 0, 0]]], dtype=uint8)"
      ]
     },
     "execution_count": 4,
     "metadata": {},
     "output_type": "execute_result"
    }
   ],
   "source": [
    "env = FlappyBirdWrapper()\n",
    "env.reset()\n",
    "env.render()"
   ]
  },
  {
   "cell_type": "code",
   "execution_count": 1,
   "metadata": {},
   "outputs": [
    {
     "name": "stdout",
     "output_type": "stream",
     "text": [
      "pygame 2.6.0 (SDL 2.28.4, Python 3.9.19)\n",
      "Hello from the pygame community. https://www.pygame.org/contribute.html\n",
      "couldn't import doomish\n",
      "Couldn't import doom\n"
     ]
    }
   ],
   "source": [
    "from ple.games import Pixelcopter, MonsterKong, Pong, PuckWorld, RaycastMaze, Snake, WaterWorld\n",
    "from ple import PLE\n",
    "env = PuckWorld()\n",
    "p = PLE(env)"
   ]
  },
  {
   "cell_type": "code",
   "execution_count": 2,
   "metadata": {},
   "outputs": [
    {
     "data": {
      "text/plain": [
       "[119, 97, 100, 115, None]"
      ]
     },
     "execution_count": 2,
     "metadata": {},
     "output_type": "execute_result"
    }
   ],
   "source": [
    "p.getActionSet()"
   ]
  },
  {
   "cell_type": "code",
   "execution_count": 3,
   "metadata": {},
   "outputs": [],
   "source": [
    "p.reset_game()"
   ]
  },
  {
   "cell_type": "code",
   "execution_count": 4,
   "metadata": {},
   "outputs": [
    {
     "data": {
      "text/plain": [
       "{'player_x': 4.5,\n",
       " 'player_y': 4.5,\n",
       " 'player_velocity_x': 0,\n",
       " 'player_velocity_y': 0,\n",
       " 'good_creep_x': 56.49369639963426,\n",
       " 'good_creep_y': 19.45319673968546,\n",
       " 'bad_creep_x': 64,\n",
       " 'bad_creep_y': 64}"
      ]
     },
     "execution_count": 4,
     "metadata": {},
     "output_type": "execute_result"
    }
   ],
   "source": [
    "env.getGameState()"
   ]
  },
  {
   "cell_type": "code",
   "execution_count": 1,
   "metadata": {},
   "outputs": [
    {
     "data": {
      "text/plain": [
       "['configure.conf']"
      ]
     },
     "execution_count": 1,
     "metadata": {},
     "output_type": "execute_result"
    }
   ],
   "source": [
    "import configparser\n",
    "\n",
    "config = configparser.ConfigParser()\n",
    "config.read(\"configure.conf\")"
   ]
  },
  {
   "cell_type": "code",
   "execution_count": 2,
   "metadata": {},
   "outputs": [
    {
     "data": {
      "text/plain": [
       "False"
      ]
     },
     "execution_count": 2,
     "metadata": {},
     "output_type": "execute_result"
    }
   ],
   "source": [
    "config.getboolean('MONITOR','wandb')"
   ]
  },
  {
   "cell_type": "code",
   "execution_count": 1,
   "metadata": {},
   "outputs": [
    {
     "data": {
      "text/plain": [
       "'python ppo_mp_main.py --env_name LunarLander-v2 --env_num 20 --layers 3 --wandb False --tensorboard False --max_train_steps 500 --per_batch_steps 500 --evaluate_freq 20 --save_freq 20 --batch_size 4096 --mini_batch_size 512 --hidden_width 64 --lr_a 0.005 --lr_c 0.0002 --gamma 0.98 --lamda 0.95 --epsilon 0.2 --use_gae True --grad_clip_param 0.5 --use_adv_norm True --use_state_norm False --use_reward_norm False --use_reward_scaling False --entropy_coef 0.05 --use_lr_decay True --use_grad_clip True --use_orthogonal_init True --use_ppo_clip True --hidden_dims 128 128'"
      ]
     },
     "execution_count": 1,
     "metadata": {},
     "output_type": "execute_result"
    }
   ],
   "source": [
    "args = [  \n",
    "    'python', 'ppo_mp_main.py', '--env_name', 'LunarLander-v2', '--env_num', '20',   \n",
    "    '--layers', '3', '--wandb', 'False', '--tensorboard', 'False', '--max_train_steps', '500',   \n",
    "    '--per_batch_steps', '500', '--evaluate_freq', '20', '--save_freq', '20', '--batch_size', '4096',   \n",
    "    '--mini_batch_size', '512', '--hidden_width', '64', '--lr_a', '0.005', '--lr_c', '0.0002',   \n",
    "    '--gamma', '0.98', '--lamda', '0.95', '--epsilon', '0.2', '--use_gae', 'True',   \n",
    "    '--grad_clip_param', '0.5', '--use_adv_norm', 'True', '--use_state_norm', 'False',   \n",
    "    '--use_reward_norm', 'False', '--use_reward_scaling', 'False', '--entropy_coef', '0.05',   \n",
    "    '--use_lr_decay', 'True', '--use_grad_clip', 'True', '--use_orthogonal_init', 'True',   \n",
    "    '--use_ppo_clip', 'True', '--hidden_dims', '128', '128'  \n",
    "]\n",
    "' '.join(args)"
   ]
  },
  {
   "cell_type": "code",
   "execution_count": 20,
   "metadata": {},
   "outputs": [
    {
     "data": {
      "text/plain": [
       "['128', '128']"
      ]
     },
     "execution_count": 20,
     "metadata": {},
     "output_type": "execute_result"
    }
   ],
   "source": [
    "''.join(config.get('NETWORK', 'hidden_dims', fallback=[])).split(',')"
   ]
  },
  {
   "cell_type": "code",
   "execution_count": 22,
   "metadata": {},
   "outputs": [
    {
     "data": {
      "text/plain": [
       "['128', '128']"
      ]
     },
     "execution_count": 22,
     "metadata": {},
     "output_type": "execute_result"
    },
    {
     "ename": "",
     "evalue": "",
     "output_type": "error",
     "traceback": [
      "\u001b[1;31mThe Kernel crashed while executing code in the current cell or a previous cell. \n",
      "\u001b[1;31mPlease review the code in the cell(s) to identify a possible cause of the failure. \n",
      "\u001b[1;31mClick <a href='https://aka.ms/vscodeJupyterKernelCrash'>here</a> for more info. \n",
      "\u001b[1;31mView Jupyter <a href='command:jupyter.viewOutput'>log</a> for further details."
     ]
    }
   ],
   "source": [
    "config.get('NETWORK', 'hidden_dims').split(\",\")"
   ]
  },
  {
   "cell_type": "code",
   "execution_count": 4,
   "metadata": {},
   "outputs": [],
   "source": [
    "import datetime\n",
    "now_time = datetime.datetime.now().strftime(\"%Y-%m-%d\")"
   ]
  },
  {
   "cell_type": "code",
   "execution_count": 5,
   "metadata": {},
   "outputs": [
    {
     "data": {
      "text/plain": [
       "'2024-09-28'"
      ]
     },
     "execution_count": 5,
     "metadata": {},
     "output_type": "execute_result"
    }
   ],
   "source": [
    "bool(\"True\")"
   ]
  },
  {
   "cell_type": "code",
   "execution_count": null,
   "metadata": {},
   "outputs": [],
   "source": []
  }
 ],
 "metadata": {
  "kernelspec": {
   "display_name": "pytorch",
   "language": "python",
   "name": "python3"
  },
  "language_info": {
   "codemirror_mode": {
    "name": "ipython",
    "version": 3
   },
   "file_extension": ".py",
   "mimetype": "text/x-python",
   "name": "python",
   "nbconvert_exporter": "python",
   "pygments_lexer": "ipython3",
   "version": "3.9.19"
  }
 },
 "nbformat": 4,
 "nbformat_minor": 2
}
